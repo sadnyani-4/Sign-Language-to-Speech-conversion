{
 "cells": [
  {
   "cell_type": "code",
   "execution_count": 8,
   "metadata": {},
   "outputs": [],
   "source": [
    "import os\n",
    "import csv\n",
    " \n",
    "from PIL import Image"
   ]
  },
  {
   "cell_type": "code",
   "execution_count": 3,
   "metadata": {},
   "outputs": [
    {
     "name": "stdout",
     "output_type": "stream",
     "text": [
      "Collecting imgaug\n",
      "  Using cached imgaug-0.4.0-py2.py3-none-any.whl (948 kB)\n",
      "Requirement already satisfied: matplotlib in c:\\users\\sadnyani\\anaconda3\\envs\\sadnyani\\lib\\site-packages (from imgaug) (3.5.3)\n",
      "Requirement already satisfied: opencv-python in c:\\users\\sadnyani\\anaconda3\\envs\\sadnyani\\lib\\site-packages (from imgaug) (4.6.0.66)\n",
      "Collecting Shapely\n",
      "  Using cached shapely-2.0.1-cp37-cp37m-win_amd64.whl (1.4 MB)\n",
      "Requirement already satisfied: Pillow in c:\\users\\sadnyani\\anaconda3\\envs\\sadnyani\\lib\\site-packages (from imgaug) (9.2.0)\n",
      "Collecting scikit-image>=0.14.2\n",
      "  Downloading scikit_image-0.19.3-cp37-cp37m-win_amd64.whl (12.1 MB)\n",
      "     ---------------------------------------- 12.1/12.1 MB 8.7 MB/s eta 0:00:00\n",
      "Requirement already satisfied: scipy in c:\\users\\sadnyani\\anaconda3\\envs\\sadnyani\\lib\\site-packages (from imgaug) (1.7.3)\n",
      "Requirement already satisfied: six in c:\\users\\sadnyani\\anaconda3\\envs\\sadnyani\\lib\\site-packages (from imgaug) (1.16.0)\n",
      "Requirement already satisfied: numpy>=1.15 in c:\\users\\sadnyani\\anaconda3\\envs\\sadnyani\\lib\\site-packages (from imgaug) (1.21.6)\n",
      "Collecting imageio\n",
      "  Downloading imageio-2.25.1-py3-none-any.whl (3.4 MB)\n",
      "     ---------------------------------------- 3.4/3.4 MB 9.0 MB/s eta 0:00:00\n",
      "Collecting tifffile>=2019.7.26\n",
      "  Downloading tifffile-2021.11.2-py3-none-any.whl (178 kB)\n",
      "     ------------------------------------- 178.9/178.9 kB 11.2 MB/s eta 0:00:00\n",
      "Requirement already satisfied: packaging>=20.0 in c:\\users\\sadnyani\\anaconda3\\envs\\sadnyani\\lib\\site-packages (from scikit-image>=0.14.2->imgaug) (21.3)\n",
      "Collecting PyWavelets>=1.1.1\n",
      "  Downloading PyWavelets-1.3.0-cp37-cp37m-win_amd64.whl (4.2 MB)\n",
      "     ---------------------------------------- 4.2/4.2 MB 8.0 MB/s eta 0:00:00\n",
      "Collecting networkx>=2.2\n",
      "  Downloading networkx-2.6.3-py3-none-any.whl (1.9 MB)\n",
      "     ---------------------------------------- 1.9/1.9 MB 9.4 MB/s eta 0:00:00\n",
      "Requirement already satisfied: cycler>=0.10 in c:\\users\\sadnyani\\anaconda3\\envs\\sadnyani\\lib\\site-packages (from matplotlib->imgaug) (0.11.0)\n",
      "Requirement already satisfied: python-dateutil>=2.7 in c:\\users\\sadnyani\\anaconda3\\envs\\sadnyani\\lib\\site-packages (from matplotlib->imgaug) (2.8.2)\n",
      "Requirement already satisfied: fonttools>=4.22.0 in c:\\users\\sadnyani\\anaconda3\\envs\\sadnyani\\lib\\site-packages (from matplotlib->imgaug) (4.37.4)\n",
      "Requirement already satisfied: pyparsing>=2.2.1 in c:\\users\\sadnyani\\anaconda3\\envs\\sadnyani\\lib\\site-packages (from matplotlib->imgaug) (3.0.4)\n",
      "Requirement already satisfied: kiwisolver>=1.0.1 in c:\\users\\sadnyani\\anaconda3\\envs\\sadnyani\\lib\\site-packages (from matplotlib->imgaug) (1.4.4)\n",
      "Requirement already satisfied: typing-extensions in c:\\users\\sadnyani\\anaconda3\\envs\\sadnyani\\lib\\site-packages (from kiwisolver>=1.0.1->matplotlib->imgaug) (4.1.1)\n",
      "Installing collected packages: tifffile, Shapely, PyWavelets, networkx, imageio, scikit-image, imgaug\n",
      "Successfully installed PyWavelets-1.3.0 Shapely-2.0.1 imageio-2.25.1 imgaug-0.4.0 networkx-2.6.3 scikit-image-0.19.3 tifffile-2021.11.2\n",
      "Requirement already satisfied: imageio in c:\\users\\sadnyani\\anaconda3\\envs\\sadnyani\\lib\\site-packages (2.25.1)\n",
      "Requirement already satisfied: numpy in c:\\users\\sadnyani\\anaconda3\\envs\\sadnyani\\lib\\site-packages (from imageio) (1.21.6)\n",
      "Requirement already satisfied: pillow>=8.3.2 in c:\\users\\sadnyani\\anaconda3\\envs\\sadnyani\\lib\\site-packages (from imageio) (9.2.0)\n"
     ]
    }
   ],
   "source": [
    "!pip install imgaug\n",
    "# !pip install -U scipy==1.2.0\n",
    "# !pip install imageio"
   ]
  },
  {
   "cell_type": "code",
   "execution_count": 1,
   "metadata": {},
   "outputs": [
    {
     "name": "stdout",
     "output_type": "stream",
     "text": [
      "0 21:41:48.179255\n",
      "1 21:41:48.262011\n",
      "2 21:41:48.275973\n",
      "3 21:41:48.287941\n",
      "4 21:41:48.299909\n"
     ]
    },
    {
     "name": "stderr",
     "output_type": "stream",
     "text": [
      "C:\\Users\\SADNYANI\\anaconda3\\envs\\sadnyani\\lib\\site-packages\\imgaug\\imgaug.py:184: DeprecationWarning: Function `ContrastNormalization()` is deprecated. Use `imgaug.contrast.LinearContrast` instead.\n",
      "  warn_deprecated(msg, stacklevel=3)\n",
      "C:\\Users\\SADNYANI\\anaconda3\\envs\\sadnyani\\lib\\site-packages\\ipykernel_launcher.py:73: DeprecationWarning: Starting with ImageIO v3 the behavior of this function will switch to that of iio.v3.imread. To keep the current behavior (and make this warning disappear) use `import imageio.v2 as imageio` or call `imageio.v2.imread` directly.\n"
     ]
    }
   ],
   "source": [
    "import os\n",
    "from glob import glob\n",
    "from datetime import datetime\n",
    "from shutil import copyfile\n",
    " \n",
    "import imgaug as ia\n",
    "from imgaug import augmenters as iaa\n",
    "from imageio import imread\n",
    "import imageio\n",
    " \n",
    "INPUT = 'splitx'\n",
    "OUTPUT = 'augx'\n",
    "WHITE_LIST_FORMAT = ('png', 'jpg', 'jpeg', 'bmp', 'ppm', 'JPG')\n",
    "ITERATIONS = 5\n",
    "# labels=['hello','thanks','yes','sorry','iloveyou']\n",
    " \n",
    "def check_dir_or_create(dir):\n",
    "    if not os.path.exists(dir):\n",
    "        os.makedirs(dir)\n",
    " \n",
    "# Sometimes(0.5, ...) applies the given augmenter in 50% of all cases,\n",
    "# e.g. Sometimes(0.5, GaussianBlur(0.3)) would blur roughly every second image.\n",
    "sometimes = lambda aug: iaa.Sometimes(0.5, aug)\n",
    " \n",
    "# Define our sequence of augmentation steps that will be applied to every image\n",
    "# All augmenters with per_channel=0.5 will sample one value _per image_\n",
    "# in 50% of all cases. In all other cases they will sample new values\n",
    "# _per channel_.\n",
    " \n",
    "augmenters = [\n",
    "    iaa.Fliplr(0.5), # horizontal flips\n",
    "    iaa.Crop(percent=(0, 0.1)), # random crops\n",
    "    # Strengthen or weaken the contrast in each image.\n",
    "    iaa.ContrastNormalization((0.75, 1.5)),\n",
    "    # Make some images brighter and some darker.\n",
    "    # In 20% of all cases, we sample the multiplier once per channel,\n",
    "    # which can end up changing the color of the images.\n",
    "    iaa.Multiply((0.8, 1.2), per_channel=0.2),\n",
    "    # Apply affine transformations to each image.\n",
    "    # Scale/zoom them, translate/move them, rotate them and shear them.\n",
    "    iaa.Affine(\n",
    "        scale={\"x\": (0.8, 1.2), \"y\": (0.8, 1.2)},\n",
    "#         translate_percent={\"x\": (-0.2, 0.2), \"y\": (-0.2, 0.2)},\n",
    "#         rotate=(-25, 25),\n",
    "        shear=(-8, 8)\n",
    "    )\n",
    "]\n",
    " \n",
    "seq = iaa.Sequential(augmenters, random_order=True)\n",
    " \n",
    "files = [y for x in os.walk(INPUT)\n",
    "         for y in glob(os.path.join(x[0], '*')) if os.path.isfile(y)]\n",
    "files = [f for f in files if f.endswith(WHITE_LIST_FORMAT)]\n",
    "classes = [os.path.basename(os.path.dirname(x)) for x in files]\n",
    "classes_set = set(classes)\n",
    "for _class in classes_set:\n",
    "    _dir = os.path.join(OUTPUT, _class)\n",
    "    check_dir_or_create(_dir)\n",
    " \n",
    "batches = []\n",
    "BATCH_SIZE = 50\n",
    "batches_count = len(files) // BATCH_SIZE + 1\n",
    "for i in range(batches_count):\n",
    "    batches.append(files[BATCH_SIZE * i:BATCH_SIZE * (i + 1)])\n",
    " \n",
    "images = []\n",
    "for i in range(ITERATIONS):\n",
    "# for i in labels:\n",
    "    print(i, datetime.time(datetime.now()))\n",
    "    for batch in batches:\n",
    "        images = []\n",
    "        for file in batch:\n",
    "            img = imread(file)\n",
    "            images.append(img)\n",
    "        images_aug = seq.augment_images(images)\n",
    "        for file, image_aug in zip(batch, images_aug):\n",
    "            root, ext = os.path.splitext(file)\n",
    "            new_filename = root + '_{}'.format(i) + ext\n",
    "            new_path = new_filename.replace(INPUT, OUTPUT, 1)\n",
    "                        \n",
    "            imageio.imwrite(new_path, image_aug)\n",
    " \n",
    "for file in files:\n",
    "    dst = file.replace(INPUT, OUTPUT)\n",
    "    copyfile(file, dst)"
   ]
  },
  {
   "cell_type": "code",
   "execution_count": 2,
   "metadata": {},
   "outputs": [],
   "source": [
    "# import os\n",
    "# import shutil\n",
    "\n",
    "# images = [f for f in os.listdir()]\n",
    "\n",
    "# os.mkdir('train')\n",
    "\n",
    "# for image in images:\n",
    "#     new_path = 'downloaded_images/' + image\n",
    "#     shutil.move(image, new_path)"
   ]
  },
  {
   "cell_type": "code",
   "execution_count": null,
   "metadata": {},
   "outputs": [],
   "source": []
  }
 ],
 "metadata": {
  "kernelspec": {
   "display_name": "Python 3",
   "language": "python",
   "name": "python3"
  },
  "language_info": {
   "codemirror_mode": {
    "name": "ipython",
    "version": 3
   },
   "file_extension": ".py",
   "mimetype": "text/x-python",
   "name": "python",
   "nbconvert_exporter": "python",
   "pygments_lexer": "ipython3",
   "version": "3.7.13"
  }
 },
 "nbformat": 4,
 "nbformat_minor": 4
}
